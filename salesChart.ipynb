{
 "cells": [
  {
   "cell_type": "code",
   "execution_count": 1,
   "id": "41f8a257",
   "metadata": {},
   "outputs": [],
   "source": [
    "import pandas as pd"
   ]
  },
  {
   "cell_type": "code",
   "execution_count": 2,
   "id": "7ec68214",
   "metadata": {},
   "outputs": [],
   "source": [
    "import matplotlib.pyplot as plt"
   ]
  },
  {
   "cell_type": "code",
   "execution_count": 3,
   "id": "5ef2b553",
   "metadata": {},
   "outputs": [],
   "source": [
    "df_top_ten_states_by_sales = pd.read_csv('topTenStatesBySales.csv')"
   ]
  },
  {
   "cell_type": "code",
   "execution_count": 4,
   "id": "496667fa",
   "metadata": {},
   "outputs": [
    {
     "data": {
      "text/html": [
       "<div>\n",
       "<style scoped>\n",
       "    .dataframe tbody tr th:only-of-type {\n",
       "        vertical-align: middle;\n",
       "    }\n",
       "\n",
       "    .dataframe tbody tr th {\n",
       "        vertical-align: top;\n",
       "    }\n",
       "\n",
       "    .dataframe thead th {\n",
       "        text-align: right;\n",
       "    }\n",
       "</style>\n",
       "<table border=\"1\" class=\"dataframe\">\n",
       "  <thead>\n",
       "    <tr style=\"text-align: right;\">\n",
       "      <th></th>\n",
       "      <th>state</th>\n",
       "      <th>sales</th>\n",
       "      <th>rank</th>\n",
       "    </tr>\n",
       "  </thead>\n",
       "  <tbody>\n",
       "    <tr>\n",
       "      <th>0</th>\n",
       "      <td>California</td>\n",
       "      <td>457688</td>\n",
       "      <td>1.0</td>\n",
       "    </tr>\n",
       "    <tr>\n",
       "      <th>1</th>\n",
       "      <td>New York</td>\n",
       "      <td>310877</td>\n",
       "      <td>2.0</td>\n",
       "    </tr>\n",
       "    <tr>\n",
       "      <th>2</th>\n",
       "      <td>Texas</td>\n",
       "      <td>170189</td>\n",
       "      <td>3.0</td>\n",
       "    </tr>\n",
       "    <tr>\n",
       "      <th>3</th>\n",
       "      <td>Washington</td>\n",
       "      <td>138642</td>\n",
       "      <td>4.0</td>\n",
       "    </tr>\n",
       "    <tr>\n",
       "      <th>4</th>\n",
       "      <td>Pennsylvania</td>\n",
       "      <td>116512</td>\n",
       "      <td>5.0</td>\n",
       "    </tr>\n",
       "    <tr>\n",
       "      <th>5</th>\n",
       "      <td>Florida</td>\n",
       "      <td>89474</td>\n",
       "      <td>6.0</td>\n",
       "    </tr>\n",
       "    <tr>\n",
       "      <th>6</th>\n",
       "      <td>Illinois</td>\n",
       "      <td>80167</td>\n",
       "      <td>7.0</td>\n",
       "    </tr>\n",
       "    <tr>\n",
       "      <th>7</th>\n",
       "      <td>Ohio</td>\n",
       "      <td>78259</td>\n",
       "      <td>8.0</td>\n",
       "    </tr>\n",
       "    <tr>\n",
       "      <th>8</th>\n",
       "      <td>Michigan</td>\n",
       "      <td>76270</td>\n",
       "      <td>9.0</td>\n",
       "    </tr>\n",
       "    <tr>\n",
       "      <th>9</th>\n",
       "      <td>Virginia</td>\n",
       "      <td>70637</td>\n",
       "      <td>10.0</td>\n",
       "    </tr>\n",
       "  </tbody>\n",
       "</table>\n",
       "</div>"
      ],
      "text/plain": [
       "          state   sales  rank\n",
       "0    California  457688   1.0\n",
       "1      New York  310877   2.0\n",
       "2         Texas  170189   3.0\n",
       "3    Washington  138642   4.0\n",
       "4  Pennsylvania  116512   5.0\n",
       "5       Florida   89474   6.0\n",
       "6      Illinois   80167   7.0\n",
       "7          Ohio   78259   8.0\n",
       "8      Michigan   76270   9.0\n",
       "9      Virginia   70637  10.0"
      ]
     },
     "execution_count": 4,
     "metadata": {},
     "output_type": "execute_result"
    }
   ],
   "source": [
    "df_top_ten_states_by_sales.head(11)"
   ]
  },
  {
   "cell_type": "code",
   "execution_count": 5,
   "id": "810bfea3",
   "metadata": {},
   "outputs": [],
   "source": [
    "x_sales = df_top_ten_states_by_sales[\"sales\"]/1000"
   ]
  },
  {
   "cell_type": "code",
   "execution_count": 6,
   "id": "4d6562fa",
   "metadata": {},
   "outputs": [],
   "source": [
    "y_state = df_top_ten_states_by_sales[\"state\"]"
   ]
  },
  {
   "cell_type": "code",
   "execution_count": 7,
   "id": "80385cfc",
   "metadata": {},
   "outputs": [
    {
     "data": {
      "image/png": "[encoded data removed]",
      "text/plain": [
       "<Figure size 576x360 with 1 Axes>"
      ]
     },
     "metadata": {
      "needs_background": "light"
     },
     "output_type": "display_data"
    }
   ],
   "source": [
    "fig, ax = plt.subplots(figsize=(8, 5))\n",
    "\n",
    "ax.barh(y_state, x_sales, color = \"green\")\n",
    "\n",
    "ax.invert_yaxis()\n",
    "\n",
    "ax.set_xlabel(\"Sale in Thousands\", fontsize=12)\n",
    "\n",
    "ax.set_ylabel(\"States\", fontsize=12)\n",
    "\n",
    "ax.set_title(\"Top Ten States by Sales\", fontsize=20)\n",
    "\n",
    "plt.annotate('Data source: City of New York',\n",
    "            xy = (-0.15, -0.20),\n",
    "            xycoords='axes fraction',\n",
    "            fontsize=9)\n",
    "\n",
    "plt.annotate('@albertoscode',\n",
    "            xy = (0.85, -0.20),\n",
    "            xycoords='axes fraction',\n",
    "            fontsize=9)\n",
    "\n",
    "plt.savefig(\"salesChart.jpg\", dpi=150,bbox_inches='tight')\n",
    "\n",
    "plt.show()"
   ]
  },
  {
   "cell_type": "code",
   "execution_count": null,
   "id": "0cabffa7",
   "metadata": {},
   "outputs": [],
   "source": []
  }
 ],
 "metadata": {
  "kernelspec": {
   "display_name": "Python 3 (ipykernel)",
   "language": "python",
   "name": "python3"
  },
  "language_info": {
   "codemirror_mode": {
    "name": "ipython",
    "version": 3
   },
   "file_extension": ".py",
   "mimetype": "text/x-python",
   "name": "python",
   "nbconvert_exporter": "python",
   "pygments_lexer": "ipython3",
   "version": "3.10.0"
  }
 },
 "nbformat": 4,
 "nbformat_minor": 5
}
